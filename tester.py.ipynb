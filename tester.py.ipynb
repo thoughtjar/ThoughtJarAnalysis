{
 "cells": [
  {
   "cell_type": "code",
   "execution_count": 14,
   "metadata": {},
   "outputs": [],
   "source": [
    "import numpy as np\n",
    "import pandas as pd\n",
    "import seaborn as sns\n",
    "import matplotlib.pyplot as plt\n",
    "from io import StringIO, BytesIO\n",
    "import base64"
   ]
  },
  {
   "cell_type": "code",
   "execution_count": 6,
   "metadata": {},
   "outputs": [],
   "source": [
    "s = pd.Series([27, 27, 26, 30, 28, 29, 31, 31, 29, 29, 29])"
   ]
  },
  {
   "cell_type": "code",
   "execution_count": 7,
   "metadata": {},
   "outputs": [
    {
     "data": {
      "text/plain": [
       "<matplotlib.axes._subplots.AxesSubplot at 0x1a16221b38>"
      ]
     },
     "execution_count": 7,
     "metadata": {},
     "output_type": "execute_result"
    },
    {
     "data": {
      "image/png": "[encoded data removed]",
      "text/plain": [
       "<matplotlib.figure.Figure at 0x1a16221208>"
      ]
     },
     "metadata": {},
     "output_type": "display_data"
    }
   ],
   "source": [
    "sns.distplot(s, kde=False, rug=True, bins=5)"
   ]
  },
  {
   "cell_type": "code",
   "execution_count": 21,
   "metadata": {},
   "outputs": [
    {
     "data": {
      "image/png": "[encoded data removed]",
      "text/plain": [
       "<matplotlib.figure.Figure at 0x1a1f8a16d8>"
      ]
     },
     "metadata": {},
     "output_type": "display_data"
    },
    {
     "name": "stdout",
     "output_type": "stream",
     "text": [
      "iVBORw0KGgoAAAANSUhEUgAAAbAAAAEgCAYAAADVKCZpAAAABHNCSVQICAgIfAhkiAAAAAlwSFlz\n",
      "AAALEgAACxIB0t1+/AAAADl0RVh0U29mdHdhcmUAbWF0cGxvdGxpYiB2ZXJzaW9uIDIuMS4yLCBo\n",
      "dHRwOi8vbWF0cGxvdGxpYi5vcmcvNQv5yAAAD3lJREFUeJzt3W9sVYX5wPGntNmKOmI21Cgsq9LO\n",
      "sq5QSgc4lzHiSBbjpgEZI77QjcXNBGKC+CeZmW4z2QuWAWEbiYkb6guzzSEx0SwGiRuZIwxY3QQR\n",
      "y+wCmB+Cf6AECtae3wtGg2j3B297eHo/n1fayj3PU9N+e869nFtTFEURAJDMqLIHAICzIWAApCRg\n",
      "AKQkYACkJGAApCRgAKQkYACkJGAApCRgAKQkYACkJGAApCRgAKQkYACkJGAApCRgAKQkYACkJGAA\n",
      "pCRgAKQkYACkJGAApCRgAKQkYACkJGAApCRgAKQkYACkJGAApCRgAKQkYACkJGAApCRgAKQkYACk\n",
      "JGAApCRgAKQkYACkVFf2AENl7Nix0dDQUPYYAKl0d3fHwYMHyx7jvzJiA9bQ0BBbtmwpewyAVDo6\n",
      "Osoe4b/mEiIAKQkYACkJGAApCRgAKQkYACkJGAApCRgAKQkYACkJGAApCRgAKQkYACkJGAApCRgA\n",
      "KQkYACkJGAApCRgAKQkYACkJGAAp1ZU9ANVt1apV0dXVVfYYVWHfvn0RETFu3LhhP3ZjY2MsXrx4\n",
      "2I/LyCZglKqrqys6X3wp3j3v42WPMuLVHj0UERH/d3x4v+1rj745rMejeggYpXv3vI/HseZryx5j\n",
      "xBu98+mIiGH/Wp86LlSa58AASEnAAEhJwABIScAASEnAAEhJwABIScAASEnAAEhJwABIScAASEnA\n",
      "AEhJwABIScAASEnAAEhJwABIScAASEnAAEhJwABIScAASEnAAEhJwABIScAASEnAAEhJwABIScAA\n",
      "SEnAAEhJwABIScAASEnAAEhJwABIScAASEnAAEhJwABIScAASEnAAEhJwABIScAASEnAAEhJwABI\n",
      "ScAASEnAAEhJwM6watWqWLVqVdljAJyVavoZVlf2AOearq6uskcAOGvV9DPMGRgAKQkYACkJGAAp\n",
      "CRgAKQkYACkJGAApCRgAKQkYACkJGAApCRgAKQkYACkJGAApCRgAKQkYACkJGAApCRgAKQkYACkJ\n",
      "GAApCRgAKQkYACkJGAApCRgAKQkYACkJGAApCRgAKQkYACkJGAApCRgAKQkYACkJGAApCRgAKQkY\n",
      "ACkJGAApCRgAKQkYACkJGAApCRgAKQkYACkJGAApCRgAKQkYACnVlT3AuWbfvn1x7NixuP3228se\n",
      "pSp0dXXFqBNF2WMwhEb1Ho6urh7fU8Okq6srRo8eXfYYw2JEBezBBx+MBx98MCIiDhw4UPI0AAyl\n",
      "ERWwW2+9NW699daIiOjo6Dirxxg3blxERKxcubJiczG422+/Pbb+Y3/ZYzCE+uvHROMVl/ieGibV\n",
      "dKbrOTAAUhIwAFISMABSEjAAUhIwAFISMABSEjAAUhIwAFISMABSEjAAUhIwAFISMABSEjAAUhIw\n",
      "AFISMABSEjAAUhIwAFISMABSEjAAUhIwAFISMABSEjAAUhIwAFISMABSEjAAUhIwAFISMABSEjAA\n",
      "UhIwAFISMABSEjAAUhIwAFISMABSEjAAUhIwAFISMABSEjAAUhIwAFISMABSEjAAUhIwAFISMABS\n",
      "qit7gHNNY2Nj2SMAnLVq+hkmYGdYvHhx2SMAnLVq+hnmEiIAKQkYACkJGAApCRgAKQkYACkJGAAp\n",
      "CRgAKQkYACkJGAApCRgAKQkYACkJGAApCRgAKQkYACkJGAApCRgAKQkYACkJGAApCRgAKQkYACkJ\n",
      "GAApCRgAKQkYACkJGAApCRgAKQkYACkJGAApCRgAKQkYACkJGAApCRgAKQkYACkJGAApCRgAKQkY\n",
      "ACkJGAApCRgAKQkYACkJGAApCRgAKdWVPQDUHn0zRu98uuwxRrzao29ERAz717r26JsRccmwHpPq\n",
      "IGCUqrGxsewRqsa+fX0RETFu3HDH5BL/nxkSAkapFi9eXPYIQFKeAwMgJQEDICUBAyAlAQMgJQED\n",
      "ICUBAyAlAQMgJQEDICUBAyAlAQMgJQEDICUBAyAlAQMgJQEDICUBAyAlAQMgJQEDICUBAyAlAQMg\n",
      "JQEDIKWaoiiKsocYCmPHjo2Ghoaz+rMHDhyIiy66qLIDnePsXB3sXB0+zM7d3d1x8ODBCk80NEZs\n",
      "wD6Mjo6O2LJlS9ljDCs7Vwc7V4dq2dklRABSEjAAUqq9//777y97iHPR1KlTyx5h2Nm5Oti5OlTD\n",
      "zp4DAyAllxABSKnqA7Znz56YNWtWTJw4MVpaWmLlypUDn1u1alVceeWV0dLSEnfddVeJU1bOYPvO\n",
      "nz8/2traoq2tLRoaGqKtra3kSStnsJ07OztjxowZ0dbWFh0dHbF58+aSJ62cwXZ+4YUX4qqrrorW\n",
      "1tb46le/GocPHy550srp7e2NadOmxeTJk6OlpSXuu+++iIh49dVXY/r06dHU1BTz58+PEydOlDxp\n",
      "5Qy2889+9rNobGyMmpqaNC+JPytFlXvttdeKrVu3FkVRFIcPHy6ampqK7du3Fxs2bCiuueaaore3\n",
      "tyiKoti/f3+ZY1bMYPuebsmSJcUPfvCDMsYbEoPtPHv27OLpp58uiqIonnrqqWLmzJklTllZg+3c\n",
      "0dFRPPfcc0VRFMVDDz1U3HvvvWWOWVH9/f1FT09PURRFceLEiWLatGnFn//852LevHnFY489VhRF\n",
      "UXznO98pfvGLX5Q5ZkUNtvO2bduKV199tfjUpz5VHDhwoOQph07Vn4Fdeuml0d7eHhERH/vYx2Li\n",
      "xImxb9++WL16ddxzzz3x0Y9+NCIiLr744jLHrJjB9j2lKIr4zW9+EwsWLChrxIobbOeampqBM5BD\n",
      "hw7FZZddVuaYFTXYzi+//HJ88YtfjIiI2bNnx+9+97syx6yompqauOCCCyIi4p133ol33nknampq\n",
      "YsOGDXHjjTdGRMTNN98c69atK3PMihps5ylTppz1jRwyqfqAna67uzv++te/xvTp02PXrl2xcePG\n",
      "mD59esycOTP+8pe/lD1exZ2+7ykbN26MSy65JJqamkqcbOicvvOKFSvizjvvjE9+8pOxdOnS+PGP\n",
      "f1z2eEPi9J0/+9nPxpNPPhkREb/97W9jz549JU9XWe+++260tbXFxRdfHLNnz44JEybEhRdeGHV1\n",
      "dRERMX78+Pf8wjYSnLnz6d/PI52A/cuRI0di7ty5sWLFihgzZkz09fXFW2+9FZs2bYply5bF17/+\n",
      "9ShG0As2z9z3lMcee2xEnX2d7sydV69eHcuXL489e/bE8uXLY+HChWWPWHFn7vzLX/4yfv7zn8fU\n",
      "qVOjp6cnPvKRj5Q9YkXV1tZGZ2dn7N27NzZv3hwvvfTS+/6bmpqaEiYbOmfu/OKLL5Y90rARsDh5\n",
      "6j137ty46aabYs6cORFx8je1OXPmRE1NTUybNi1GjRo1Yp4M/aB9IyL6+vpi7dq1MX/+/BKnGxof\n",
      "tPPDDz888M/z5s0bUS/iiPjgnZubm+OZZ56JrVu3xoIFC2LChAklTzk0LrzwwvjSl74UmzZtirff\n",
      "fjv6+voiImLv3r0j6lLx6U7t/Pvf/77sUYZN1QesKIpYuHBhTJw4MZYsWTLw8RtuuCE2bNgQERG7\n",
      "du2KEydOxNixY8sas2IG2zciYv369dHc3Bzjx48vabqhMdjOl112WfzhD3+IiIgNGzaMqMumg+38\n",
      "+uuvR0REf39/PPDAA/Hd7363rBEr7sCBA/H2229HRMSxY8di/fr1MXHixJg1a1Y8/vjjEXHyl5br\n",
      "r7++zDEr6oN2bm5uLnmqYVTmK0jOBRs3biwiomhtbS0mT55cTJ48uXjqqaeK48ePFzfddFPR0tJS\n",
      "TJkypXj22WfLHrUiBtu3KIri5ptvLlavXl3yhJU32M4bN24s2tvbi0mTJhXTpk0rtmzZUvaoFTPY\n",
      "zitWrCiampqKpqam4u677y76+/vLHrViXnjhhaKtra1obW0tWlpaBl5Ju3v37uJzn/tcMWHChOLG\n",
      "G28ceGXxSDDYzitXrizGjRtX1NbWFpdeemmxcOHCkicdGu7EAUBKVX8JEYCcBAyAlAQMgJQEDICU\n",
      "BAyAlAQM/mXv3r1x/fXXR1NTU1xxxRWxaNGiOH78eEWPsW7dutixY8fAv3//+9+P9evXf+jHfeON\n",
      "N2LWrFlxwQUXxKJFiz7040EGAgZx8i/+zpkzJ2644YZ45ZVX4pVXXoljx45V/G10zgzYD3/4w/jy\n",
      "l7/8oR+3vr4+fvSjH8VPfvKTD/1YkIWAQZy8E0d9fX1885vfjIiT95dbvnx5PPLII3HkyJFYs2bN\n",
      "e85srrvuunjuueciIuKZZ56Jq666Ktrb22PevHlx5MiRiIi455574jOf+UxMmjQpli5dGs8//3w8\n",
      "+eSTceedd0ZbW1vs3r07brnlloG7RDz77LMxZcqUaG1tjW9961sDZ38NDQ1x3333RXt7e7S2tsbO\n",
      "nTvfN//5558fX/jCF6K+vn4ov0xwThEwiIjt27fH1KlT3/OxMWPGRENDQ3R1dQ365w4ePBgPPPBA\n",
      "rF+/PrZt2xYdHR3x05/+NN5888144oknYvv27fG3v/0t7r333vj85z8fX/va12LZsmXR2dn5nvsQ\n",
      "9vb2xi233BK//vWv4+9//3v09fXF6tWrBz4/duzY2LZtW9x2223OsuBfBAzi5CXED7pL+X+6Uc2m\n",
      "TZtix44dcfXVV0dbW1s8/PDD8c9//jPGjBkT9fX18e1vfzvWrl0b55133r99nJdffjkuv/zy+PSn\n",
      "Px0RJ9+36o9//OPA50/djHfq1KnR3d39P24HI5OAQUS0tLTEli1b3vOxw4cPx/79++PKK6+Murq6\n",
      "6O/vH/hcb29vRJwM3OzZs6OzszM6Oztjx44d8dBDD0VdXV1s3rw55s6dG+vWrYuvfOUr//b4/ymU\n",
      "p95Ytba2duDO6lDtBAwi4pprromjR4/GI488EhEn3yTwjjvuiEWLFsXo0aOjoaEhOjs7o7+/P/bs\n",
      "2TPw1iszZsyIP/3pTwOXGY8ePRq7du2KI0eOxKFDh+Laa6+NFStWRGdnZ0ScfHfknp6e9x2/ubk5\n",
      "uru7Bx7n0UcfjZkzZw7H6pCWgEGcfJPDJ554Ih5//PFoamqKT3ziEzFq1Kj43ve+FxERV199dVx+\n",
      "+eXR2toaS5cujfb29oiIuOiii2LNmjWxYMGCmDRpUsyYMSN27twZPT09cd1118WkSZNi5syZsXz5\n",
      "8oiI+MY3vhHLli2LKVOmxO7duweOX19fH7/61a9i3rx50draGqNGjfqf3+qkoaEhlixZEmvWrInx\n",
      "48e/59WOMBK5Gz18gOeffz4WLFgQa9eufd+LO4Bzg4ABkJJLiACkJGAApCRgAKQkYACkJGAApPT/\n",
      "KZNi8pE75IQAAAAASUVORK5CYII=\n",
      "\n",
      "Content-type: image/png\n",
      "\n",
      "<img src = \"data:image/png;base64,iVBORw0KGgoAAAANSUhEUgAAAbAAAAEgCAYAAADVKCZpAAAABHNCSVQICAgIfAhkiAAAAAlwSFlz\n",
      "AAALEgAACxIB0t1+/AAAADl0RVh0U29mdHdhcmUAbWF0cGxvdGxpYiB2ZXJzaW9uIDIuMS4yLCBo\n",
      "dHRwOi8vbWF0cGxvdGxpYi5vcmcvNQv5yAAAD3lJREFUeJzt3W9sVYX5wPGntNmKOmI21Cgsq9LO\n",
      "sq5QSgc4lzHiSBbjpgEZI77QjcXNBGKC+CeZmW4z2QuWAWEbiYkb6guzzSEx0SwGiRuZIwxY3QQR\n",
      "y+wCmB+Cf6AECtae3wtGg2j3B297eHo/n1fayj3PU9N+e869nFtTFEURAJDMqLIHAICzIWAApCRg\n",
      "AKQkYACkJGAApCRgAKQkYACkJGAApCRgAKQkYACkJGAApCRgAKQkYACkJGAApCRgAKQkYACkJGAA\n",
      "pCRgAKQkYACkJGAApCRgAKQkYACkJGAApCRgAKQkYACkJGAApCRgAKQkYACkJGAApCRgAKQkYACk\n",
      "JGAApCRgAKQkYACkVFf2AENl7Nix0dDQUPYYAKl0d3fHwYMHyx7jvzJiA9bQ0BBbtmwpewyAVDo6\n",
      "Osoe4b/mEiIAKQkYACkJGAApCRgAKQkYACkJGAApCRgAKQkYACkJGAApCRgAKQkYACkJGAApCRgA\n",
      "KQkYACkJGAApCRgAKQkYACkJGAAp1ZU9ANVt1apV0dXVVfYYVWHfvn0RETFu3LhhP3ZjY2MsXrx4\n",
      "2I/LyCZglKqrqys6X3wp3j3v42WPMuLVHj0UERH/d3x4v+1rj745rMejeggYpXv3vI/HseZryx5j\n",
      "xBu98+mIiGH/Wp86LlSa58AASEnAAEhJwABIScAASEnAAEhJwABIScAASEnAAEhJwABIScAASEnA\n",
      "AEhJwABIScAASEnAAEhJwABIScAASEnAAEhJwABIScAASEnAAEhJwABIScAASEnAAEhJwABIScAA\n",
      "SEnAAEhJwABIScAASEnAAEhJwABIScAASEnAAEhJwABIScAASEnAAEhJwABIScAASEnAAEhJwABI\n",
      "ScAASEnAAEhJwM6watWqWLVqVdljAJyVavoZVlf2AOearq6uskcAOGvV9DPMGRgAKQkYACkJGAAp\n",
      "CRgAKQkYACkJGAApCRgAKQkYACkJGAApCRgAKQkYACkJGAApCRgAKQkYACkJGAApCRgAKQkYACkJ\n",
      "GAApCRgAKQkYACkJGAApCRgAKQkYACkJGAApCRgAKQkYACkJGAApCRgAKQkYACkJGAApCRgAKQkY\n",
      "ACkJGAApCRgAKQkYACkJGAApCRgAKQkYACkJGAApCRgAKQkYACnVlT3AuWbfvn1x7NixuP3228se\n",
      "pSp0dXXFqBNF2WMwhEb1Ho6urh7fU8Okq6srRo8eXfYYw2JEBezBBx+MBx98MCIiDhw4UPI0AAyl\n",
      "ERWwW2+9NW699daIiOjo6Dirxxg3blxERKxcubJiczG422+/Pbb+Y3/ZYzCE+uvHROMVl/ieGibV\n",
      "dKbrOTAAUhIwAFISMABSEjAAUhIwAFISMABSEjAAUhIwAFISMABSEjAAUhIwAFISMABSEjAAUhIw\n",
      "AFISMABSEjAAUhIwAFISMABSEjAAUhIwAFISMABSEjAAUhIwAFISMABSEjAAUhIwAFISMABSEjAA\n",
      "UhIwAFISMABSEjAAUhIwAFISMABSEjAAUhIwAFISMABSEjAAUhIwAFISMABSEjAAUhIwAFISMABS\n",
      "qit7gHNNY2Nj2SMAnLVq+hkmYGdYvHhx2SMAnLVq+hnmEiIAKQkYACkJGAApCRgAKQkYACkJGAAp\n",
      "CRgAKQkYACkJGAApCRgAKQkYACkJGAApCRgAKQkYACkJGAApCRgAKQkYACkJGAApCRgAKQkYACkJ\n",
      "GAApCRgAKQkYACkJGAApCRgAKQkYACkJGAApCRgAKQkYACkJGAApCRgAKQkYACkJGAApCRgAKQkY\n",
      "ACkJGAApCRgAKQkYACkJGAApCRgAKdWVPQDUHn0zRu98uuwxRrzao29ERAz717r26JsRccmwHpPq\n",
      "IGCUqrGxsewRqsa+fX0RETFu3HDH5BL/nxkSAkapFi9eXPYIQFKeAwMgJQEDICUBAyAlAQMgJQED\n",
      "ICUBAyAlAQMgJQEDICUBAyAlAQMgJQEDICUBAyAlAQMgJQEDICUBAyAlAQMgJQEDICUBAyAlAQMg\n",
      "JQEDIKWaoiiKsocYCmPHjo2Ghoaz+rMHDhyIiy66qLIDnePsXB3sXB0+zM7d3d1x8ODBCk80NEZs\n",
      "wD6Mjo6O2LJlS9ljDCs7Vwc7V4dq2dklRABSEjAAUqq9//777y97iHPR1KlTyx5h2Nm5Oti5OlTD\n",
      "zp4DAyAllxABSKnqA7Znz56YNWtWTJw4MVpaWmLlypUDn1u1alVceeWV0dLSEnfddVeJU1bOYPvO\n",
      "nz8/2traoq2tLRoaGqKtra3kSStnsJ07OztjxowZ0dbWFh0dHbF58+aSJ62cwXZ+4YUX4qqrrorW\n",
      "1tb46le/GocPHy550srp7e2NadOmxeTJk6OlpSXuu+++iIh49dVXY/r06dHU1BTz58+PEydOlDxp\n",
      "5Qy2889+9rNobGyMmpqaNC+JPytFlXvttdeKrVu3FkVRFIcPHy6ampqK7du3Fxs2bCiuueaaore3\n",
      "tyiKoti/f3+ZY1bMYPuebsmSJcUPfvCDMsYbEoPtPHv27OLpp58uiqIonnrqqWLmzJklTllZg+3c\n",
      "0dFRPPfcc0VRFMVDDz1U3HvvvWWOWVH9/f1FT09PURRFceLEiWLatGnFn//852LevHnFY489VhRF\n",
      "UXznO98pfvGLX5Q5ZkUNtvO2bduKV199tfjUpz5VHDhwoOQph07Vn4Fdeuml0d7eHhERH/vYx2Li\n",
      "xImxb9++WL16ddxzzz3x0Y9+NCIiLr744jLHrJjB9j2lKIr4zW9+EwsWLChrxIobbOeampqBM5BD\n",
      "hw7FZZddVuaYFTXYzi+//HJ88YtfjIiI2bNnx+9+97syx6yompqauOCCCyIi4p133ol33nknampq\n",
      "YsOGDXHjjTdGRMTNN98c69atK3PMihps5ylTppz1jRwyqfqAna67uzv++te/xvTp02PXrl2xcePG\n",
      "mD59esycOTP+8pe/lD1exZ2+7ykbN26MSy65JJqamkqcbOicvvOKFSvizjvvjE9+8pOxdOnS+PGP\n",
      "f1z2eEPi9J0/+9nPxpNPPhkREb/97W9jz549JU9XWe+++260tbXFxRdfHLNnz44JEybEhRdeGHV1\n",
      "dRERMX78+Pf8wjYSnLnz6d/PI52A/cuRI0di7ty5sWLFihgzZkz09fXFW2+9FZs2bYply5bF17/+\n",
      "9ShG0As2z9z3lMcee2xEnX2d7sydV69eHcuXL489e/bE8uXLY+HChWWPWHFn7vzLX/4yfv7zn8fU\n",
      "qVOjp6cnPvKRj5Q9YkXV1tZGZ2dn7N27NzZv3hwvvfTS+/6bmpqaEiYbOmfu/OKLL5Y90rARsDh5\n",
      "6j137ty46aabYs6cORFx8je1OXPmRE1NTUybNi1GjRo1Yp4M/aB9IyL6+vpi7dq1MX/+/BKnGxof\n",
      "tPPDDz888M/z5s0bUS/iiPjgnZubm+OZZ56JrVu3xoIFC2LChAklTzk0LrzwwvjSl74UmzZtirff\n",
      "fjv6+voiImLv3r0j6lLx6U7t/Pvf/77sUYZN1QesKIpYuHBhTJw4MZYsWTLw8RtuuCE2bNgQERG7\n",
      "du2KEydOxNixY8sas2IG2zciYv369dHc3Bzjx48vabqhMdjOl112WfzhD3+IiIgNGzaMqMumg+38\n",
      "+uuvR0REf39/PPDAA/Hd7363rBEr7sCBA/H2229HRMSxY8di/fr1MXHixJg1a1Y8/vjjEXHyl5br\n",
      "r7++zDEr6oN2bm5uLnmqYVTmK0jOBRs3biwiomhtbS0mT55cTJ48uXjqqaeK48ePFzfddFPR0tJS\n",
      "TJkypXj22WfLHrUiBtu3KIri5ptvLlavXl3yhJU32M4bN24s2tvbi0mTJhXTpk0rtmzZUvaoFTPY\n",
      "zitWrCiampqKpqam4u677y76+/vLHrViXnjhhaKtra1obW0tWlpaBl5Ju3v37uJzn/tcMWHChOLG\n",
      "G28ceGXxSDDYzitXrizGjRtX1NbWFpdeemmxcOHCkicdGu7EAUBKVX8JEYCcBAyAlAQMgJQEDICU\n",
      "BAyAlAQM/mXv3r1x/fXXR1NTU1xxxRWxaNGiOH78eEWPsW7dutixY8fAv3//+9+P9evXf+jHfeON\n",
      "N2LWrFlxwQUXxKJFiz7040EGAgZx8i/+zpkzJ2644YZ45ZVX4pVXXoljx45V/G10zgzYD3/4w/jy\n",
      "l7/8oR+3vr4+fvSjH8VPfvKTD/1YkIWAQZy8E0d9fX1885vfjIiT95dbvnx5PPLII3HkyJFYs2bN\n",
      "e85srrvuunjuueciIuKZZ56Jq666Ktrb22PevHlx5MiRiIi455574jOf+UxMmjQpli5dGs8//3w8\n",
      "+eSTceedd0ZbW1vs3r07brnlloG7RDz77LMxZcqUaG1tjW9961sDZ38NDQ1x3333RXt7e7S2tsbO\n",
      "nTvfN//5558fX/jCF6K+vn4ov0xwThEwiIjt27fH1KlT3/OxMWPGRENDQ3R1dQ365w4ePBgPPPBA\n",
      "rF+/PrZt2xYdHR3x05/+NN5888144oknYvv27fG3v/0t7r333vj85z8fX/va12LZsmXR2dn5nvsQ\n",
      "9vb2xi233BK//vWv4+9//3v09fXF6tWrBz4/duzY2LZtW9x2223OsuBfBAzi5CXED7pL+X+6Uc2m\n",
      "TZtix44dcfXVV0dbW1s8/PDD8c9//jPGjBkT9fX18e1vfzvWrl0b55133r99nJdffjkuv/zy+PSn\n",
      "Px0RJ9+36o9//OPA50/djHfq1KnR3d39P24HI5OAQUS0tLTEli1b3vOxw4cPx/79++PKK6+Murq6\n",
      "6O/vH/hcb29vRJwM3OzZs6OzszM6Oztjx44d8dBDD0VdXV1s3rw55s6dG+vWrYuvfOUr//b4/ymU\n",
      "p95Ytba2duDO6lDtBAwi4pprromjR4/GI488EhEn3yTwjjvuiEWLFsXo0aOjoaEhOjs7o7+/P/bs\n",
      "2TPw1iszZsyIP/3pTwOXGY8ePRq7du2KI0eOxKFDh+Laa6+NFStWRGdnZ0ScfHfknp6e9x2/ubk5\n",
      "uru7Bx7n0UcfjZkzZw7H6pCWgEGcfJPDJ554Ih5//PFoamqKT3ziEzFq1Kj43ve+FxERV199dVx+\n",
      "+eXR2toaS5cujfb29oiIuOiii2LNmjWxYMGCmDRpUsyYMSN27twZPT09cd1118WkSZNi5syZsXz5\n",
      "8oiI+MY3vhHLli2LKVOmxO7duweOX19fH7/61a9i3rx50draGqNGjfqf3+qkoaEhlixZEmvWrInx\n",
      "48e/59WOMBK5Gz18gOeffz4WLFgQa9eufd+LO4Bzg4ABkJJLiACkJGAApCRgAKQkYACkJGAApPT/\n",
      "KZNi8pE75IQAAAAASUVORK5CYII=\n",
      "\"/>\n"
     ]
    }
   ],
   "source": [
    "fig = plt.figure()\n",
    "plot = sns.boxplot(x=s)\n",
    "plot.set(xlabel='Question 1')\n",
    "plt.show()\n",
    "imgdata = BytesIO()\n",
    "fig.savefig(imgdata, format='png')\n",
    "imgdata.seek(0)\n",
    "\n",
    "print (base64.encodebytes(imgdata.getvalue()).decode())\n",
    "print (\"Content-type: image/png\\n\")\n",
    "uri = 'data:image/png;base64,' + base64.encodebytes(imgdata.getvalue()).decode()\n",
    "print ('<img src = \"%s\"/>' % uri)"
   ]
  },
  {
   "cell_type": "code",
   "execution_count": null,
   "metadata": {},
   "outputs": [],
   "source": []
  }
 ],
 "metadata": {
  "kernelspec": {
   "display_name": "Python 3",
   "language": "python",
   "name": "python3"
  },
  "language_info": {
   "codemirror_mode": {
    "name": "ipython",
    "version": 3
   },
   "file_extension": ".py",
   "mimetype": "text/x-python",
   "name": "python",
   "nbconvert_exporter": "python",
   "pygments_lexer": "ipython3",
   "version": "3.6.4"
  }
 },
 "nbformat": 4,
 "nbformat_minor": 2
}
